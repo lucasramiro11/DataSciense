{
 "cells": [
  {
   "cell_type": "code",
   "execution_count": 1,
   "id": "7e242dac",
   "metadata": {},
   "outputs": [],
   "source": [
    "#Análise Exploratória do Dataset"
   ]
  },
  {
   "cell_type": "code",
   "execution_count": 2,
   "id": "a3585a9e",
   "metadata": {},
   "outputs": [],
   "source": [
    "import pandas as pd"
   ]
  },
  {
   "cell_type": "code",
   "execution_count": 3,
   "id": "02195e77",
   "metadata": {},
   "outputs": [],
   "source": [
    "dados_treino = pd.read_csv(\"train.csv\")\n",
    "dados_teste = pd.read_csv(\"test.csv\")"
   ]
  },
  {
   "cell_type": "code",
   "execution_count": 1,
   "id": "4efa6e9f",
   "metadata": {
    "scrolled": true
   },
   "outputs": [
    {
     "ename": "NameError",
     "evalue": "name 'dados_treino' is not defined",
     "output_type": "error",
     "traceback": [
      "\u001b[1;31m---------------------------------------------------------------------------\u001b[0m",
      "\u001b[1;31mNameError\u001b[0m                                 Traceback (most recent call last)",
      "\u001b[1;32m~\\AppData\\Local\\Temp\\ipykernel_12548\\3862881150.py\u001b[0m in \u001b[0;36m<module>\u001b[1;34m\u001b[0m\n\u001b[1;32m----> 1\u001b[1;33m \u001b[0mdados_treino\u001b[0m\u001b[1;33m.\u001b[0m\u001b[0mhead\u001b[0m\u001b[1;33m(\u001b[0m\u001b[1;33m)\u001b[0m\u001b[1;33m\u001b[0m\u001b[1;33m\u001b[0m\u001b[0m\n\u001b[0m",
      "\u001b[1;31mNameError\u001b[0m: name 'dados_treino' is not defined"
     ]
    }
   ],
   "source": [
    "dados_treino.head()"
   ]
  },
  {
   "cell_type": "code",
   "execution_count": 5,
   "id": "43353b37",
   "metadata": {
    "scrolled": true
   },
   "outputs": [
    {
     "name": "stdout",
     "output_type": "stream",
     "text": [
      "<class 'pandas.core.frame.DataFrame'>\n",
      "RangeIndex: 891 entries, 0 to 890\n",
      "Data columns (total 12 columns):\n",
      " #   Column       Non-Null Count  Dtype  \n",
      "---  ------       --------------  -----  \n",
      " 0   PassengerId  891 non-null    int64  \n",
      " 1   Survived     891 non-null    int64  \n",
      " 2   Pclass       891 non-null    int64  \n",
      " 3   Name         891 non-null    object \n",
      " 4   Sex          891 non-null    object \n",
      " 5   Age          714 non-null    float64\n",
      " 6   SibSp        891 non-null    int64  \n",
      " 7   Parch        891 non-null    int64  \n",
      " 8   Ticket       891 non-null    object \n",
      " 9   Fare         891 non-null    float64\n",
      " 10  Cabin        204 non-null    object \n",
      " 11  Embarked     889 non-null    object \n",
      "dtypes: float64(2), int64(5), object(5)\n",
      "memory usage: 83.7+ KB\n"
     ]
    }
   ],
   "source": [
    "dados_treino.info()"
   ]
  },
  {
   "cell_type": "code",
   "execution_count": 6,
   "id": "9e77a01f",
   "metadata": {
    "scrolled": false
   },
   "outputs": [
    {
     "data": {
      "text/plain": [
       "PassengerId      0\n",
       "Survived         0\n",
       "Pclass           0\n",
       "Name             0\n",
       "Sex              0\n",
       "Age            177\n",
       "SibSp            0\n",
       "Parch            0\n",
       "Ticket           0\n",
       "Fare             0\n",
       "Cabin          687\n",
       "Embarked         2\n",
       "dtype: int64"
      ]
     },
     "execution_count": 6,
     "metadata": {},
     "output_type": "execute_result"
    }
   ],
   "source": [
    "dados_treino.isnull().sum()"
   ]
  },
  {
   "cell_type": "code",
   "execution_count": 7,
   "id": "ea678a0c",
   "metadata": {},
   "outputs": [],
   "source": [
    "dados_teste.drop(labels=['PassengerId','Name', 'Ticket', 'Cabin'], axis=1, inplace = True)\n",
    "dados_treino.drop(labels=['PassengerId','Name', 'Ticket', 'Cabin'], axis=1, inplace = True)"
   ]
  },
  {
   "cell_type": "code",
   "execution_count": 8,
   "id": "7743eb2c",
   "metadata": {},
   "outputs": [],
   "source": [
    "#Transformando em Variáveis Categóricas em Várias Dummy através do pd.getdummies"
   ]
  },
  {
   "cell_type": "code",
   "execution_count": 9,
   "id": "74dfb448",
   "metadata": {},
   "outputs": [],
   "source": [
    "pd.get_dummies?"
   ]
  },
  {
   "cell_type": "code",
   "execution_count": 10,
   "id": "08c3f120",
   "metadata": {},
   "outputs": [],
   "source": [
    "dados_treino = pd.get_dummies(dados_treino, columns=[\"Sex\"])\n",
    "dados_treino = pd.get_dummies(dados_treino, columns=[\"Embarked\"])\n",
    "dados_teste = pd.get_dummies(dados_teste, columns=[\"Sex\"])\n",
    "dados_teste = pd.get_dummies(dados_teste, columns=[\"Embarked\"])"
   ]
  },
  {
   "cell_type": "code",
   "execution_count": 11,
   "id": "64130650",
   "metadata": {},
   "outputs": [],
   "source": [
    "# Definindo as variáveis preditoras e a variável target para o modelo"
   ]
  },
  {
   "cell_type": "code",
   "execution_count": 12,
   "id": "ea6f515f",
   "metadata": {
    "scrolled": true
   },
   "outputs": [],
   "source": [
    "X = dados_treino.loc[:, dados_treino.columns!= \"Survived\"]\n",
    "y = dados_treino[\"Survived\"]"
   ]
  },
  {
   "cell_type": "code",
   "execution_count": 13,
   "id": "84f191a9",
   "metadata": {},
   "outputs": [],
   "source": [
    "# Inserindo dados para os Valores Ausentes atráves do Método dos Vizinhos Próximos (KNN)"
   ]
  },
  {
   "cell_type": "code",
   "execution_count": 14,
   "id": "2553735d",
   "metadata": {},
   "outputs": [],
   "source": [
    "from sklearn.impute import KNNImputer"
   ]
  },
  {
   "cell_type": "code",
   "execution_count": 15,
   "id": "ec7a64ee",
   "metadata": {},
   "outputs": [],
   "source": [
    "imputar = KNNImputer()"
   ]
  },
  {
   "cell_type": "code",
   "execution_count": 16,
   "id": "d10a0c6e",
   "metadata": {},
   "outputs": [
    {
     "data": {
      "text/plain": [
       "KNNImputer()"
      ]
     },
     "execution_count": 16,
     "metadata": {},
     "output_type": "execute_result"
    }
   ],
   "source": [
    "imputar.fit(X)"
   ]
  },
  {
   "cell_type": "code",
   "execution_count": 74,
   "id": "958dff30",
   "metadata": {},
   "outputs": [],
   "source": [
    "dados_teste = imputar.transform(dados_teste)"
   ]
  },
  {
   "cell_type": "code",
   "execution_count": 17,
   "id": "1134e1a5",
   "metadata": {},
   "outputs": [],
   "source": [
    "X = imputar.transform(X)"
   ]
  },
  {
   "cell_type": "code",
   "execution_count": 18,
   "id": "31de381b",
   "metadata": {},
   "outputs": [],
   "source": [
    "# Construindo o modelo preditivo através do algoritmo \"Árvore de Decisão\""
   ]
  },
  {
   "cell_type": "code",
   "execution_count": 20,
   "id": "cbfe8708",
   "metadata": {},
   "outputs": [],
   "source": [
    "from sklearn.tree import DecisionTreeClassifier"
   ]
  },
  {
   "cell_type": "code",
   "execution_count": 98,
   "id": "cb7c1132",
   "metadata": {},
   "outputs": [],
   "source": [
    "modelo = DecisionTreeClassifier(criterion=\"entropy\", max_depth = 6 , min_samples_split=5)"
   ]
  },
  {
   "cell_type": "code",
   "execution_count": 104,
   "id": "640d369e",
   "metadata": {},
   "outputs": [
    {
     "data": {
      "text/plain": [
       "DecisionTreeClassifier(criterion='entropy', max_depth=6, min_samples_split=5)"
      ]
     },
     "execution_count": 104,
     "metadata": {},
     "output_type": "execute_result"
    }
   ],
   "source": [
    "modelo.fit(X,y)"
   ]
  },
  {
   "cell_type": "code",
   "execution_count": 105,
   "id": "273b9619",
   "metadata": {},
   "outputs": [],
   "source": [
    "#Verificando a acuracia do modelo atráves da Validação Cruzada"
   ]
  },
  {
   "cell_type": "code",
   "execution_count": 106,
   "id": "ed89f467",
   "metadata": {},
   "outputs": [],
   "source": [
    "from sklearn.model_selection import cross_val_score"
   ]
  },
  {
   "cell_type": "code",
   "execution_count": 107,
   "id": "d1d18bc0",
   "metadata": {
    "scrolled": true
   },
   "outputs": [
    {
     "data": {
      "text/plain": [
       "0.8205118601747815"
      ]
     },
     "execution_count": 107,
     "metadata": {},
     "output_type": "execute_result"
    }
   ],
   "source": [
    "cross_val_score(modelo, X, y, cv = 10).mean()"
   ]
  },
  {
   "cell_type": "code",
   "execution_count": 108,
   "id": "cae62790",
   "metadata": {},
   "outputs": [],
   "source": [
    "# Exportando o resultado das previsões utilizando os Dados de Teste"
   ]
  },
  {
   "cell_type": "code",
   "execution_count": 109,
   "id": "86f902b4",
   "metadata": {},
   "outputs": [],
   "source": [
    "ID_dados_teste = pd.read_csv(\"test.csv\")"
   ]
  },
  {
   "cell_type": "code",
   "execution_count": 110,
   "id": "294b5f1d",
   "metadata": {},
   "outputs": [],
   "source": [
    "previsao = modelo.predict(dados_teste)"
   ]
  },
  {
   "cell_type": "code",
   "execution_count": 111,
   "id": "ebccd958",
   "metadata": {},
   "outputs": [],
   "source": [
    "df_previsao = pd.DataFrame(previsao, columns= ['Survived'])\n",
    "df_previsao['PassengerId'] = ID_dados_teste['PassengerId']"
   ]
  },
  {
   "cell_type": "code",
   "execution_count": 112,
   "id": "65586eb9",
   "metadata": {},
   "outputs": [],
   "source": [
    "df_previsao = df_previsao[['PassengerId', 'Survived']]"
   ]
  },
  {
   "cell_type": "code",
   "execution_count": 113,
   "id": "5b5debb5",
   "metadata": {
    "scrolled": true
   },
   "outputs": [
    {
     "data": {
      "text/html": [
       "<div>\n",
       "<style scoped>\n",
       "    .dataframe tbody tr th:only-of-type {\n",
       "        vertical-align: middle;\n",
       "    }\n",
       "\n",
       "    .dataframe tbody tr th {\n",
       "        vertical-align: top;\n",
       "    }\n",
       "\n",
       "    .dataframe thead th {\n",
       "        text-align: right;\n",
       "    }\n",
       "</style>\n",
       "<table border=\"1\" class=\"dataframe\">\n",
       "  <thead>\n",
       "    <tr style=\"text-align: right;\">\n",
       "      <th></th>\n",
       "      <th>PassengerId</th>\n",
       "      <th>Survived</th>\n",
       "    </tr>\n",
       "  </thead>\n",
       "  <tbody>\n",
       "    <tr>\n",
       "      <th>0</th>\n",
       "      <td>892</td>\n",
       "      <td>0</td>\n",
       "    </tr>\n",
       "    <tr>\n",
       "      <th>1</th>\n",
       "      <td>893</td>\n",
       "      <td>0</td>\n",
       "    </tr>\n",
       "    <tr>\n",
       "      <th>2</th>\n",
       "      <td>894</td>\n",
       "      <td>0</td>\n",
       "    </tr>\n",
       "    <tr>\n",
       "      <th>3</th>\n",
       "      <td>895</td>\n",
       "      <td>0</td>\n",
       "    </tr>\n",
       "    <tr>\n",
       "      <th>4</th>\n",
       "      <td>896</td>\n",
       "      <td>1</td>\n",
       "    </tr>\n",
       "  </tbody>\n",
       "</table>\n",
       "</div>"
      ],
      "text/plain": [
       "   PassengerId  Survived\n",
       "0          892         0\n",
       "1          893         0\n",
       "2          894         0\n",
       "3          895         0\n",
       "4          896         1"
      ]
     },
     "execution_count": 113,
     "metadata": {},
     "output_type": "execute_result"
    }
   ],
   "source": [
    "df_previsao.head()"
   ]
  },
  {
   "cell_type": "code",
   "execution_count": 114,
   "id": "80e46f06",
   "metadata": {},
   "outputs": [],
   "source": [
    "df_previsao.to_csv('submissao.csv', index=False)"
   ]
  }
 ],
 "metadata": {
  "kernelspec": {
   "display_name": "Python 3 (ipykernel)",
   "language": "python",
   "name": "python3"
  },
  "language_info": {
   "codemirror_mode": {
    "name": "ipython",
    "version": 3
   },
   "file_extension": ".py",
   "mimetype": "text/x-python",
   "name": "python",
   "nbconvert_exporter": "python",
   "pygments_lexer": "ipython3",
   "version": "3.9.13"
  }
 },
 "nbformat": 4,
 "nbformat_minor": 5
}
